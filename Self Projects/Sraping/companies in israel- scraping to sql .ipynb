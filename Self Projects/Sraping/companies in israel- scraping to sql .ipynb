{
 "cells": [
  {
   "cell_type": "markdown",
   "metadata": {},
   "source": [
    "# SCRAPING רשם החברות"
   ]
  },
  {
   "cell_type": "code",
   "execution_count": null,
   "metadata": {},
   "outputs": [],
   "source": [
    "import requests\n",
    "from bs4 import BeautifulSoup\n",
    "import pandas as pd\n",
    "import pyodbc \n",
    "import sqlalchemy\n",
    "import urllib"
   ]
  },
  {
   "cell_type": "markdown",
   "metadata": {},
   "source": [
    "## create soup var"
   ]
  },
  {
   "cell_type": "code",
   "execution_count": null,
   "metadata": {},
   "outputs": [],
   "source": [
    "r = requests.get(\"https://data.gov.il/api/action/datastore_search?resource_id=f004176c-b85f-4542-8901-7b3176f9a054&limit=0\")\n",
    "x = r.json()\n",
    "j = x['result']\n",
    "df = pd.DataFrame(j['records'])\n",
    "sep = 10000\n",
    "offset =0\n",
    "while sep == 10000:\n",
    "    r = requests.get(\"https://data.gov.il/api/action/datastore_search?resource_id=f004176c-b85f-4542-8901-7b3176f9a054&limit=10000&offset={}\".format(offset))\n",
    "    offset += 10000\n",
    "    #print(r)\n",
    "    x = r.json()\n",
    "    #print(x.keys())\n",
    "    j = x['result']\n",
    "    df_batch = pd.DataFrame(j['records'])\n",
    "    df = pd.concat([df,df_batch])\n",
    "    sep = len(df_batch)"
   ]
  },
  {
   "cell_type": "code",
   "execution_count": null,
   "metadata": {},
   "outputs": [],
   "source": [
    "nessesery_cols = ['מספר חברה',\n",
    "'שם חברה',\n",
    "'שם באנגלית',\n",
    "'סוג תאגיד',\n",
    "'סטטוס חברה',\n",
    "'תאור חברה',\n",
    "'מטרת החברה',\n",
    "'תאריך התאגדות',\n",
    "'חברה ממשלתית',\n",
    "'מגבלות',\n",
    "'מפרה',\n",
    "'שנה אחרונה של דוח שנתי (שהוגש)',\n",
    "'שם עיר',\n",
    "'מיקוד',\n",
    "'ת.ד.',\n",
    "'מדינה',\n",
    "'אצל']\n",
    "\n",
    "#df[nessesery_cols]"
   ]
  },
  {
   "cell_type": "markdown",
   "metadata": {},
   "source": [
    "export to sql"
   ]
  },
  {
   "cell_type": "code",
   "execution_count": null,
   "metadata": {},
   "outputs": [],
   "source": [
    "params = urllib.parse.quote_plus(\"DRIVER={SQL Server Native Client 11.0};\"\n",
    "                                 \"SERVER=localhost;\"\n",
    "                                 \"DATABASE=TempTests;\"\n",
    "                                 \"UID=XXXXXXX;\"\n",
    "                                 \"PWD=XXXXXXX\")\n",
    "\n",
    "engine = sqlalchemy.create_engine(\"mssql+pyodbc:///?odbc_connect={}\".format(params))\n",
    "if len(df)>0:\n",
    "    engine.execute(sqlalchemy.text('''TRUNCATE TABLE test''').execution_options(autocommit=True))\n",
    "\n",
    "df.to_sql('test', con=engine, if_exists='append')"
   ]
  },
  {
   "cell_type": "markdown",
   "metadata": {},
   "source": [
    "## selenium - doesnt work with this website\n",
    "\n",
    "from selenium import webdriver\n",
    "import time\n",
    "path = \"C:/Users/chen/Downloads/chromedriver_win32/chromedriver.exe\"\n",
    "driver = webdriver.Chrome(path)\n",
    "\n",
    "options = webdriver.ChromeOptions(path)\n",
    "options.add_argument('--ignore-certificate-errors')\n",
    "options.add_argument(\"--test-type\")\n",
    "options.binary_location = \"/usr/bin/chromium\"\n",
    "driver = webdriver.Chrome(path = path,chrome_options=options)\n",
    "driver.get('https://data.gov.il/dataset/ica_companies/resource/f004176c-b85f-4542-8901-7b3176f9a054')\n",
    "\n",
    " click radio button\n",
    "python_button = driver.find_elements_by_xpath(\"//*[@id='content']/div[3]/section/div[1]/div[1]/ul/li[2]/a\")[0]\n",
    "python_button.click()\n"
   ]
  }
 ],
 "metadata": {
  "kernelspec": {
   "display_name": "Python 3",
   "language": "python",
   "name": "python3"
  },
  "language_info": {
   "codemirror_mode": {
    "name": "ipython",
    "version": 3
   },
   "file_extension": ".py",
   "mimetype": "text/x-python",
   "name": "python",
   "nbconvert_exporter": "python",
   "pygments_lexer": "ipython3",
   "version": "3.7.3"
  }
 },
 "nbformat": 4,
 "nbformat_minor": 2
}
